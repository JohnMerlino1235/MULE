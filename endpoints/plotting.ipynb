{
 "cells": [
  {
   "cell_type": "code",
   "execution_count": 4,
   "metadata": {},
   "outputs": [
    {
     "ename": "AttributeError",
     "evalue": "'function' object has no attribute 'df_return'",
     "output_type": "error",
     "traceback": [
      "\u001b[1;31m---------------------------------------------------------------------------\u001b[0m",
      "\u001b[1;31mAttributeError\u001b[0m                            Traceback (most recent call last)",
      "Cell \u001b[1;32mIn[4], line 4\u001b[0m\n\u001b[0;32m      1\u001b[0m \u001b[39mfrom\u001b[39;00m \u001b[39mendpoints\u001b[39;00m \u001b[39mimport\u001b[39;00m data_filter \u001b[39mas\u001b[39;00m filt\n\u001b[0;32m      2\u001b[0m \u001b[39mimport\u001b[39;00m \u001b[39maltair\u001b[39;00m \u001b[39mas\u001b[39;00m \u001b[39malt\u001b[39;00m\n\u001b[1;32m----> 4\u001b[0m source \u001b[39m=\u001b[39m filt\u001b[39m.\u001b[39;49mdf_return()\n\u001b[0;32m      6\u001b[0m alt\u001b[39m.\u001b[39mChart(source)\u001b[39m.\u001b[39mmark_area()\u001b[39m.\u001b[39mencode(\n\u001b[0;32m      7\u001b[0m     x\u001b[39m=\u001b[39m\u001b[39m\"\u001b[39m\u001b[39mDate:T\u001b[39m\u001b[39m\"\u001b[39m,\n\u001b[0;32m      8\u001b[0m     y\u001b[39m=\u001b[39m\u001b[39m\"\u001b[39m\u001b[39mEMG Signal:Q\u001b[39m\u001b[39m\"\u001b[39m,\n\u001b[0;32m      9\u001b[0m     color\u001b[39m=\u001b[39m\u001b[39m\"\u001b[39m\u001b[39msource:N\u001b[39m\u001b[39m\"\u001b[39m\n\u001b[0;32m     10\u001b[0m )\n",
      "\u001b[1;31mAttributeError\u001b[0m: 'function' object has no attribute 'df_return'"
     ]
    }
   ],
   "source": [
    "from endpoints import data_filter as filt\n",
    "import altair as alt\n",
    "\n",
    "\n",
    "\n",
    "alt.Chart(source).mark_area().encode(\n",
    "    x=\"Date:T\",\n",
    "    y=\"EMG Signal:Q\",\n",
    "    color=\"source:N\"\n",
    ")"
   ]
  }
 ],
 "metadata": {
  "kernelspec": {
   "display_name": "Python 3",
   "language": "python",
   "name": "python3"
  },
  "language_info": {
   "codemirror_mode": {
    "name": "ipython",
    "version": 3
   },
   "file_extension": ".py",
   "mimetype": "text/x-python",
   "name": "python",
   "nbconvert_exporter": "python",
   "pygments_lexer": "ipython3",
   "version": "3.11.2"
  },
  "orig_nbformat": 4
 },
 "nbformat": 4,
 "nbformat_minor": 2
}
